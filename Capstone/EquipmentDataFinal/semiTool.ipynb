{
 "cells": [
  {
   "cell_type": "markdown",
   "metadata": {},
   "source": [
    "**Data Source:** Pleschberger, Martin, Zernig, Anja, & Kaestner, Andre. (2020). Equipment Sensor Data from Semiconductor Frontend Production (Version 1) [Data set]. Zenodo. http://doi.org/10.5281/zenodo.4282611"
   ]
  },
  {
   "cell_type": "code",
   "execution_count": 1,
   "metadata": {},
   "outputs": [],
   "source": [
    "import os\n",
    "import pandas as pd\n",
    "pd.options.display.max_columns = 10\n",
    "pd.options.display.max_rows = 10\n",
    "\n",
    "from sklearn.decomposition import PCA\n",
    "from sklearn.model_selection import train_test_split, cross_val_score\n",
    "from sklearn.preprocessing import MinMaxScaler, StandardScaler, normalize\n",
    "from sklearn.linear_model import LinearRegression, LogisticRegression, Lasso\n",
    "from sklearn.ensemble import RandomForestClassifier\n",
    "from sklearn import tree\n",
    "from sklearn.metrics import confusion_matrix, classification_report, f1_score\n",
    "\n",
    "import numpy as np\n",
    "import matplotlib.pyplot as plt\n",
    "import seaborn as sns"
   ]
  },
  {
   "cell_type": "code",
   "execution_count": 2,
   "metadata": {},
   "outputs": [
    {
     "name": "stdout",
     "output_type": "stream",
     "text": [
      "lot;wafer;timestamp;sensor_1;sensor_2;sensor_3;sensor_4;sensor_5;sensor_6;sensor_7;sensor_8;sensor_9;sensor_10;sensor_11;sensor_12;sensor_13;sensor_14;sensor_15;sensor_16;sensor_17;sensor_18;sensor_19;sensor_20;sensor_21;sensor_22;sensor_23;sensor_24\n",
      "lot2;1;timestamp_0;0.0;0.0;15.1604;105.417;99.18;0.0;2.77728;0.0;1.0;0.0;0.0;0.0;0.0;0.0;0.0;0.0;7.0;200.0;151.891;0.0;47.5;0.0;-1.0;19.05\n",
      "lot2;1;timestamp_1;0.0;0.0;15.092;100.51;98.18;0.0;2.77465;0.0;1.0;0.91;4.0;0.0;0.0;0.0;0.0;0.0;7.0;200.0;151.40200000000004;0.0;48.5;0.0;-1.0;0.99\n",
      "\n",
      "lot;wafer;timestamp;sensor_25;sensor_26;sensor_27;sensor_28;sensor_29;sensor_30;sensor_31;sensor_32;sensor_33;sensor_34;sensor_35;sensor_36;sensor_37;sensor_38;sensor_39;sensor_40;sensor_41;sensor_42;sensor_43;sensor_44;sensor_45;sensor_46;sensor_47;sensor_48;sensor_49;sensor_50;sensor_51;sensor_52;sensor_53;sensor_54;sensor_55;sensor_56\n",
      "lot2;1;timestamp_0;0.0;382.64;99.0;11.0;0.0;0.0;0.3055033;1.443347;0.0;1.8520329999999997e-07;61.93445;0.0;0.5188147;0.4028443;0.8056886999999999;0.7629628;0.634785;197.3937;201.8799;1.0;1135.382;0.0;2177.084;0.0;1.0;-0.1;1.8;199.7436;724.5978;8.518196e-06;1.302417;1.0\n",
      "lot2;1;timestamp_1;0.0;382.64;99.0;11.0;0.0;0.0;0.30491799999999997;1.446451;0.0;1.8520329999999997e-07;61.93172;0.0;0.5188147;0.4394665;0.7324441999999999;0.7629628;0.4394665;197.3937;201.9105;1.0;1135.382;0.0;2177.084;0.0;1.0;-0.1;1.8;199.6521;724.5978;8.454682e-06;1.304668;1.18\n",
      "\n",
      "lot;wafer;response;class\n",
      "lot2;1;1.0278;bad\n",
      "lot2;2;0.3906;good\n"
     ]
    }
   ],
   "source": [
    "!head -n 3 equipment1.csv\n",
    "!echo\n",
    "!head -n 3 equipment2.csv\n",
    "!echo\n",
    "!head -n 3 response.csv"
   ]
  },
  {
   "cell_type": "code",
   "execution_count": 3,
   "metadata": {},
   "outputs": [],
   "source": [
    "sensors_1_to_24 = pd.read_csv('equipment1.csv', sep=';')\n",
    "sensors_25_to_56 = pd.read_csv('equipment2.csv', sep=';')\n",
    "response = pd.read_csv('response.csv', sep=';')"
   ]
  },
  {
   "cell_type": "code",
   "execution_count": 4,
   "metadata": {},
   "outputs": [
    {
     "name": "stdout",
     "output_type": "stream",
     "text": [
      "    lot  wafer    timestamp  sensor_1  sensor_2  ...  sensor_20  sensor_21  \\\n",
      "0  lot2      1  timestamp_0       0.0       0.0  ...        0.0       47.5   \n",
      "1  lot2      1  timestamp_1       0.0       0.0  ...        0.0       48.5   \n",
      "2  lot2      1  timestamp_2       0.0       0.0  ...        0.0       48.0   \n",
      "\n",
      "   sensor_22  sensor_23  sensor_24  \n",
      "0        0.0       -1.0      19.05  \n",
      "1        0.0       -1.0       0.99  \n",
      "2        0.0       -1.0       0.99  \n",
      "\n",
      "[3 rows x 27 columns]\n",
      "    lot  wafer  response class\n",
      "0  lot2      1    1.0278   bad\n",
      "1  lot2      2    0.3906  good\n",
      "2  lot2      3    0.3906  good\n"
     ]
    }
   ],
   "source": [
    "print(sensors_1_to_24.head(3))\n",
    "print(response.head(3))"
   ]
  },
  {
   "cell_type": "code",
   "execution_count": 5,
   "metadata": {},
   "outputs": [
    {
     "name": "stdout",
     "output_type": "stream",
     "text": [
      "(170896, 27)\n",
      "(232144, 35)\n",
      "(2638, 4)\n"
     ]
    }
   ],
   "source": [
    "print(sensors_1_to_24.shape)\n",
    "print(sensors_25_to_56.shape)\n",
    "print(response.shape)"
   ]
  },
  {
   "cell_type": "code",
   "execution_count": 6,
   "metadata": {},
   "outputs": [],
   "source": [
    "sensors_1_to_24.lot = sensors_1_to_24.lot.str.replace('lot', '').astype('int64')\n",
    "sensors_1_to_24.timestamp = sensors_1_to_24.timestamp.str.replace('timestamp_', '').astype('int64')"
   ]
  },
  {
   "cell_type": "code",
   "execution_count": 7,
   "metadata": {},
   "outputs": [
    {
     "name": "stdout",
     "output_type": "stream",
     "text": [
      "0    2\n",
      "1    2\n",
      "2    2\n",
      "Name: lot, dtype: int64\n",
      "0    timestamp_0\n",
      "1    timestamp_1\n",
      "2    timestamp_2\n",
      "Name: timestamp, dtype: object\n",
      "0    lot2\n",
      "1    lot2\n",
      "2    lot2\n",
      "Name: lot, dtype: object\n"
     ]
    }
   ],
   "source": [
    "print(sensors_1_to_24['lot'].head(3))\n",
    "print(sensors_25_to_56['timestamp'].head(3))\n",
    "print(response['lot'].head(3))"
   ]
  },
  {
   "cell_type": "code",
   "execution_count": 8,
   "metadata": {},
   "outputs": [],
   "source": [
    "sensors_25_to_56.lot = sensors_25_to_56.lot.str.replace('lot', '').astype('int64')\n",
    "sensors_25_to_56.timestamp = sensors_25_to_56.timestamp.str.replace('timestamp_', '').astype('int64')\n",
    "\n",
    "response['class'] = response['class'].replace(['good', 'bad'], [1, 0]).astype('int64')\n",
    "response.lot = response.lot.str.replace('lot', '').astype('int64')"
   ]
  },
  {
   "cell_type": "code",
   "execution_count": 9,
   "metadata": {},
   "outputs": [
    {
     "name": "stdout",
     "output_type": "stream",
     "text": [
      "0    2\n",
      "1    2\n",
      "2    2\n",
      "Name: lot, dtype: int64\n",
      "0    0\n",
      "1    1\n",
      "2    2\n",
      "Name: timestamp, dtype: int64\n",
      "0    2\n",
      "1    2\n",
      "2    2\n",
      "Name: lot, dtype: int64\n"
     ]
    }
   ],
   "source": [
    "print(sensors_1_to_24['lot'].head(3))\n",
    "print(sensors_25_to_56['timestamp'].head(3))\n",
    "print(response['lot'].head(3))"
   ]
  },
  {
   "cell_type": "code",
   "execution_count": 10,
   "metadata": {},
   "outputs": [
    {
     "name": "stdout",
     "output_type": "stream",
     "text": [
      "Equipment 1 dataset shape: (170896, 27) \n",
      "Equipment 2 dataset shape: (232144, 35) \n",
      "Response dataset shape: (2638, 4)\n"
     ]
    }
   ],
   "source": [
    "print(\"Equipment 1 dataset shape:\", sensors_1_to_24.shape, \\\n",
    "      '\\n'\\\n",
    "      \"Equipment 2 dataset shape:\", sensors_25_to_56.shape, \\\n",
    "      '\\n'\\\n",
    "      \"Response dataset shape:\", response.shape)"
   ]
  },
  {
   "cell_type": "code",
   "execution_count": 11,
   "metadata": {},
   "outputs": [
    {
     "name": "stdout",
     "output_type": "stream",
     "text": [
      "lot          0\n",
      "wafer        0\n",
      "timestamp    0\n",
      "sensor_1     0\n",
      "sensor_2     0\n",
      "            ..\n",
      "sensor_20    0\n",
      "sensor_21    0\n",
      "sensor_22    0\n",
      "sensor_23    0\n",
      "sensor_24    0\n",
      "Length: 27, dtype: int64\n",
      "lot          0\n",
      "wafer        0\n",
      "timestamp    0\n",
      "sensor_25    0\n",
      "sensor_26    0\n",
      "            ..\n",
      "sensor_52    0\n",
      "sensor_53    0\n",
      "sensor_54    0\n",
      "sensor_55    0\n",
      "sensor_56    0\n",
      "Length: 35, dtype: int64\n",
      "lot         0\n",
      "wafer       0\n",
      "response    0\n",
      "class       0\n",
      "dtype: int64\n"
     ]
    }
   ],
   "source": [
    "print(sensors_1_to_24.isna().sum())\n",
    "print(sensors_25_to_56.isna().sum())\n",
    "print(response.isna().sum())"
   ]
  },
  {
   "cell_type": "code",
   "execution_count": 12,
   "metadata": {},
   "outputs": [],
   "source": [
    "sensors_1_to_24 = sensors_1_to_24.groupby(['lot', 'wafer']).mean()\n",
    "sensors_25_to_56 = sensors_25_to_56.groupby(['lot', 'wafer']).mean()\n",
    "response = response.groupby(['lot', 'wafer']).mean()"
   ]
  },
  {
   "cell_type": "code",
   "execution_count": 13,
   "metadata": {},
   "outputs": [
    {
     "name": "stdout",
     "output_type": "stream",
     "text": [
      "(1319, 58)\n"
     ]
    },
    {
     "data": {
      "text/plain": [
       "timestamp_x    348\n",
       "sensor_1       348\n",
       "sensor_2       348\n",
       "sensor_3       348\n",
       "sensor_4       348\n",
       "              ... \n",
       "sensor_52        0\n",
       "sensor_53        0\n",
       "sensor_54        0\n",
       "sensor_55        0\n",
       "sensor_56        0\n",
       "Length: 58, dtype: int64"
      ]
     },
     "execution_count": 13,
     "metadata": {},
     "output_type": "execute_result"
    }
   ],
   "source": [
    "sensor_data = sensors_1_to_24.merge(sensors_25_to_56, on=['lot', 'wafer'], how='outer')\n",
    "print(sensor_data.shape)\n",
    "sensor_data.isna().sum()"
   ]
  },
  {
   "cell_type": "code",
   "execution_count": 14,
   "metadata": {},
   "outputs": [
    {
     "data": {
      "text/html": [
       "<div>\n",
       "<style scoped>\n",
       "    .dataframe tbody tr th:only-of-type {\n",
       "        vertical-align: middle;\n",
       "    }\n",
       "\n",
       "    .dataframe tbody tr th {\n",
       "        vertical-align: top;\n",
       "    }\n",
       "\n",
       "    .dataframe thead th {\n",
       "        text-align: right;\n",
       "    }\n",
       "</style>\n",
       "<table border=\"1\" class=\"dataframe\">\n",
       "  <thead>\n",
       "    <tr style=\"text-align: right;\">\n",
       "      <th></th>\n",
       "      <th></th>\n",
       "      <th>timestamp_x</th>\n",
       "      <th>sensor_1</th>\n",
       "      <th>sensor_2</th>\n",
       "      <th>sensor_3</th>\n",
       "      <th>sensor_4</th>\n",
       "      <th>...</th>\n",
       "      <th>sensor_52</th>\n",
       "      <th>sensor_53</th>\n",
       "      <th>sensor_54</th>\n",
       "      <th>sensor_55</th>\n",
       "      <th>sensor_56</th>\n",
       "    </tr>\n",
       "    <tr>\n",
       "      <th>lot</th>\n",
       "      <th>wafer</th>\n",
       "      <th></th>\n",
       "      <th></th>\n",
       "      <th></th>\n",
       "      <th></th>\n",
       "      <th></th>\n",
       "      <th></th>\n",
       "      <th></th>\n",
       "      <th></th>\n",
       "      <th></th>\n",
       "      <th></th>\n",
       "      <th></th>\n",
       "    </tr>\n",
       "  </thead>\n",
       "  <tbody>\n",
       "    <tr>\n",
       "      <th>81</th>\n",
       "      <th>25</th>\n",
       "      <td>NaN</td>\n",
       "      <td>NaN</td>\n",
       "      <td>NaN</td>\n",
       "      <td>NaN</td>\n",
       "      <td>NaN</td>\n",
       "      <td>...</td>\n",
       "      <td>129.607426</td>\n",
       "      <td>367.235252</td>\n",
       "      <td>0.000007</td>\n",
       "      <td>0.510276</td>\n",
       "      <td>0.647955</td>\n",
       "    </tr>\n",
       "    <tr>\n",
       "      <th>67</th>\n",
       "      <th>10</th>\n",
       "      <td>87.5</td>\n",
       "      <td>5.192074</td>\n",
       "      <td>5.280682</td>\n",
       "      <td>13.410573</td>\n",
       "      <td>43.312218</td>\n",
       "      <td>...</td>\n",
       "      <td>123.931678</td>\n",
       "      <td>357.521626</td>\n",
       "      <td>0.000006</td>\n",
       "      <td>0.529075</td>\n",
       "      <td>0.619091</td>\n",
       "    </tr>\n",
       "    <tr>\n",
       "      <th>35</th>\n",
       "      <th>7</th>\n",
       "      <td>87.5</td>\n",
       "      <td>5.148781</td>\n",
       "      <td>5.188636</td>\n",
       "      <td>13.417624</td>\n",
       "      <td>42.568432</td>\n",
       "      <td>...</td>\n",
       "      <td>121.631347</td>\n",
       "      <td>0.000007</td>\n",
       "      <td>376.781161</td>\n",
       "      <td>0.490212</td>\n",
       "      <td>0.607955</td>\n",
       "    </tr>\n",
       "  </tbody>\n",
       "</table>\n",
       "<p>3 rows × 58 columns</p>\n",
       "</div>"
      ],
      "text/plain": [
       "           timestamp_x  sensor_1  sensor_2   sensor_3   sensor_4  ...  \\\n",
       "lot wafer                                                         ...   \n",
       "81  25             NaN       NaN       NaN        NaN        NaN  ...   \n",
       "67  10            87.5  5.192074  5.280682  13.410573  43.312218  ...   \n",
       "35  7             87.5  5.148781  5.188636  13.417624  42.568432  ...   \n",
       "\n",
       "            sensor_52   sensor_53   sensor_54  sensor_55  sensor_56  \n",
       "lot wafer                                                            \n",
       "81  25     129.607426  367.235252    0.000007   0.510276   0.647955  \n",
       "67  10     123.931678  357.521626    0.000006   0.529075   0.619091  \n",
       "35  7      121.631347    0.000007  376.781161   0.490212   0.607955  \n",
       "\n",
       "[3 rows x 58 columns]"
      ]
     },
     "execution_count": 14,
     "metadata": {},
     "output_type": "execute_result"
    }
   ],
   "source": [
    "sensor_data.sample(3)"
   ]
  },
  {
   "cell_type": "code",
   "execution_count": 15,
   "metadata": {},
   "outputs": [
    {
     "data": {
      "text/plain": [
       "response    0\n",
       "class       0\n",
       "dtype: int64"
      ]
     },
     "execution_count": 15,
     "metadata": {},
     "output_type": "execute_result"
    }
   ],
   "source": [
    "response.isna().sum()"
   ]
  },
  {
   "cell_type": "code",
   "execution_count": 16,
   "metadata": {},
   "outputs": [
    {
     "name": "stdout",
     "output_type": "stream",
     "text": [
      "(1319, 60)\n"
     ]
    },
    {
     "data": {
      "text/plain": [
       "timestamp_x    348\n",
       "sensor_1       348\n",
       "sensor_2       348\n",
       "sensor_3       348\n",
       "sensor_4       348\n",
       "              ... \n",
       "sensor_54        0\n",
       "sensor_55        0\n",
       "sensor_56        0\n",
       "response         0\n",
       "class            0\n",
       "Length: 60, dtype: int64"
      ]
     },
     "execution_count": 16,
     "metadata": {},
     "output_type": "execute_result"
    }
   ],
   "source": [
    "data = sensor_data.merge(response, on=['lot', 'wafer'], how='outer')\n",
    "print(data.shape)\n",
    "data.isna().sum()"
   ]
  },
  {
   "cell_type": "code",
   "execution_count": 17,
   "metadata": {},
   "outputs": [],
   "source": [
    "data = data.dropna()"
   ]
  },
  {
   "cell_type": "code",
   "execution_count": 18,
   "metadata": {},
   "outputs": [
    {
     "data": {
      "text/html": [
       "<div>\n",
       "<style scoped>\n",
       "    .dataframe tbody tr th:only-of-type {\n",
       "        vertical-align: middle;\n",
       "    }\n",
       "\n",
       "    .dataframe tbody tr th {\n",
       "        vertical-align: top;\n",
       "    }\n",
       "\n",
       "    .dataframe thead th {\n",
       "        text-align: right;\n",
       "    }\n",
       "</style>\n",
       "<table border=\"1\" class=\"dataframe\">\n",
       "  <thead>\n",
       "    <tr style=\"text-align: right;\">\n",
       "      <th></th>\n",
       "      <th>lot</th>\n",
       "      <th>wafer</th>\n",
       "      <th>timestamp_x</th>\n",
       "      <th>sensor_1</th>\n",
       "      <th>sensor_2</th>\n",
       "      <th>...</th>\n",
       "      <th>sensor_54</th>\n",
       "      <th>sensor_55</th>\n",
       "      <th>sensor_56</th>\n",
       "      <th>response</th>\n",
       "      <th>class</th>\n",
       "    </tr>\n",
       "  </thead>\n",
       "  <tbody>\n",
       "    <tr>\n",
       "      <th>0</th>\n",
       "      <td>2</td>\n",
       "      <td>1</td>\n",
       "      <td>87.5</td>\n",
       "      <td>5.231203</td>\n",
       "      <td>5.176705</td>\n",
       "      <td>...</td>\n",
       "      <td>0.000004</td>\n",
       "      <td>0.509069</td>\n",
       "      <td>0.607955</td>\n",
       "      <td>1.0278</td>\n",
       "      <td>0</td>\n",
       "    </tr>\n",
       "    <tr>\n",
       "      <th>1</th>\n",
       "      <td>2</td>\n",
       "      <td>2</td>\n",
       "      <td>87.5</td>\n",
       "      <td>5.196315</td>\n",
       "      <td>5.142614</td>\n",
       "      <td>...</td>\n",
       "      <td>396.140498</td>\n",
       "      <td>0.592390</td>\n",
       "      <td>0.642045</td>\n",
       "      <td>0.3906</td>\n",
       "      <td>1</td>\n",
       "    </tr>\n",
       "    <tr>\n",
       "      <th>2</th>\n",
       "      <td>2</td>\n",
       "      <td>3</td>\n",
       "      <td>87.5</td>\n",
       "      <td>5.161432</td>\n",
       "      <td>5.255114</td>\n",
       "      <td>...</td>\n",
       "      <td>0.000006</td>\n",
       "      <td>0.526011</td>\n",
       "      <td>0.636648</td>\n",
       "      <td>0.3906</td>\n",
       "      <td>1</td>\n",
       "    </tr>\n",
       "    <tr>\n",
       "      <th>3</th>\n",
       "      <td>2</td>\n",
       "      <td>4</td>\n",
       "      <td>87.5</td>\n",
       "      <td>5.175509</td>\n",
       "      <td>5.294318</td>\n",
       "      <td>...</td>\n",
       "      <td>394.003550</td>\n",
       "      <td>0.521722</td>\n",
       "      <td>0.641989</td>\n",
       "      <td>0.4050</td>\n",
       "      <td>1</td>\n",
       "    </tr>\n",
       "    <tr>\n",
       "      <th>4</th>\n",
       "      <td>2</td>\n",
       "      <td>5</td>\n",
       "      <td>87.5</td>\n",
       "      <td>5.201729</td>\n",
       "      <td>5.127273</td>\n",
       "      <td>...</td>\n",
       "      <td>0.000007</td>\n",
       "      <td>0.528508</td>\n",
       "      <td>0.641932</td>\n",
       "      <td>0.4050</td>\n",
       "      <td>1</td>\n",
       "    </tr>\n",
       "  </tbody>\n",
       "</table>\n",
       "<p>5 rows × 62 columns</p>\n",
       "</div>"
      ],
      "text/plain": [
       "   lot  wafer  timestamp_x  sensor_1  sensor_2  ...   sensor_54  sensor_55  \\\n",
       "0    2      1         87.5  5.231203  5.176705  ...    0.000004   0.509069   \n",
       "1    2      2         87.5  5.196315  5.142614  ...  396.140498   0.592390   \n",
       "2    2      3         87.5  5.161432  5.255114  ...    0.000006   0.526011   \n",
       "3    2      4         87.5  5.175509  5.294318  ...  394.003550   0.521722   \n",
       "4    2      5         87.5  5.201729  5.127273  ...    0.000007   0.528508   \n",
       "\n",
       "   sensor_56  response  class  \n",
       "0   0.607955    1.0278      0  \n",
       "1   0.642045    0.3906      1  \n",
       "2   0.636648    0.3906      1  \n",
       "3   0.641989    0.4050      1  \n",
       "4   0.641932    0.4050      1  \n",
       "\n",
       "[5 rows x 62 columns]"
      ]
     },
     "execution_count": 18,
     "metadata": {},
     "output_type": "execute_result"
    }
   ],
   "source": [
    "data = data.reset_index()\n",
    "data.head()"
   ]
  },
  {
   "cell_type": "code",
   "execution_count": 19,
   "metadata": {},
   "outputs": [
    {
     "name": "stdout",
     "output_type": "stream",
     "text": [
      "17.507723995880536 %\n"
     ]
    }
   ],
   "source": [
    "bad_class_sum = (data['class']==0).sum()\n",
    "good_class_sum = (data['class']==1).sum()\n",
    "print(bad_class_sum * 100 / (bad_class_sum + good_class_sum),\"%\")"
   ]
  },
  {
   "cell_type": "code",
   "execution_count": 20,
   "metadata": {
    "scrolled": true
   },
   "outputs": [],
   "source": [
    "def ECDF(df_column):\n",
    "    '''returns sorted data as x and proportionate 0.0 to 1.0 y values'''\n",
    "    x = np.sort(df_column)\n",
    "    y = np.arange(1, len(x)+1) / len(x)\n",
    "    return x, y\n",
    "\n",
    "def ECDF_plot():\n",
    "    plt.figure(figsize=(50.0,50.0))\n",
    "    plt.subplots_adjust(hspace=0.5)\n",
    "    for ax, n in list(enumerate(data.columns)):\n",
    "        x, y = ECDF(data[n])\n",
    "        plt.subplot(10, 10, ax+1)\n",
    "        plt.grid(True)\n",
    "        x_ecdf = plt.plot(x, y, marker='.', linestyle='none')\n",
    "        plt.xlabel('%s readings' %n)\n",
    "        plt.ylim(0, 1.0)\n",
    "        plt.yticks(np.arange(0, 1.1, 0.1))\n",
    "        plt.ylabel('ECDF')\n",
    "        plt.margins(0.02)\n",
    "        \n",
    "#ECDF_plot()     #Uncomment for ECDF plots"
   ]
  },
  {
   "cell_type": "code",
   "execution_count": 21,
   "metadata": {},
   "outputs": [
    {
     "name": "stdout",
     "output_type": "stream",
     "text": [
      "response    -0.898600\n",
      "sensor_24   -0.421485\n",
      "sensor_2    -0.408268\n",
      "sensor_1    -0.407393\n",
      "sensor_5    -0.407297\n",
      "Name: class, dtype: float64\n",
      "class       -0.898600\n",
      "sensor_3    -0.373243\n",
      "sensor_20   -0.372276\n",
      "sensor_7    -0.338698\n",
      "sensor_47   -0.286064\n",
      "Name: response, dtype: float64\n"
     ]
    }
   ],
   "source": [
    "print(data.corr()['class'].sort_values().head())\n",
    "print(data.corr()['response'].sort_values().head())"
   ]
  },
  {
   "cell_type": "markdown",
   "metadata": {},
   "source": [
    "**Classification**"
   ]
  },
  {
   "cell_type": "code",
   "execution_count": 22,
   "metadata": {},
   "outputs": [],
   "source": [
    "target_list = ['response', 'class']\n",
    "feature_list = list(set(data.columns) - set(target_list))"
   ]
  },
  {
   "cell_type": "code",
   "execution_count": 23,
   "metadata": {},
   "outputs": [
    {
     "name": "stdout",
     "output_type": "stream",
     "text": [
      "['sensor_55', 'sensor_37', 'sensor_9', 'sensor_31', 'sensor_29', 'sensor_45', 'sensor_16', 'sensor_28', 'sensor_39', 'sensor_2', 'sensor_49', 'sensor_1', 'sensor_34', 'sensor_56', 'sensor_10', 'sensor_24', 'sensor_48', 'lot', 'sensor_27', 'sensor_20', 'sensor_26', 'sensor_38', 'sensor_13', 'sensor_30', 'sensor_8', 'sensor_11', 'sensor_17', 'sensor_7', 'sensor_36', 'sensor_18', 'sensor_35', 'sensor_23', 'sensor_15', 'sensor_33', 'sensor_41', 'sensor_5', 'sensor_12', 'sensor_42', 'sensor_46', 'sensor_52', 'sensor_21', 'sensor_54', 'sensor_50', 'sensor_19', 'wafer', 'sensor_22', 'sensor_40', 'sensor_3', 'timestamp_y', 'sensor_43', 'timestamp_x', 'sensor_25', 'sensor_6', 'sensor_32', 'sensor_4', 'sensor_47', 'sensor_53', 'sensor_14', 'sensor_51', 'sensor_44']\n"
     ]
    }
   ],
   "source": [
    "print(feature_list)"
   ]
  },
  {
   "cell_type": "code",
   "execution_count": 24,
   "metadata": {},
   "outputs": [
    {
     "name": "stdout",
     "output_type": "stream",
     "text": [
      "['sensor_55', 'sensor_37', 'sensor_9', 'sensor_31', 'sensor_29', 'sensor_45', 'sensor_16', 'sensor_28', 'sensor_39', 'sensor_2', 'sensor_49', 'sensor_1', 'sensor_34', 'sensor_56', 'sensor_10', 'sensor_24', 'sensor_48', 'sensor_27', 'sensor_20', 'sensor_26', 'sensor_38', 'sensor_13', 'sensor_30', 'sensor_8', 'sensor_11', 'sensor_17', 'sensor_7', 'sensor_36', 'sensor_18', 'sensor_35', 'sensor_23', 'sensor_15', 'sensor_33', 'sensor_41', 'sensor_5', 'sensor_12', 'sensor_42', 'sensor_46', 'sensor_52', 'sensor_21', 'sensor_54', 'sensor_50', 'sensor_19', 'sensor_22', 'sensor_40', 'sensor_3', 'sensor_43', 'sensor_25', 'sensor_6', 'sensor_32', 'sensor_4', 'sensor_47', 'sensor_53', 'sensor_14', 'sensor_51', 'sensor_44']\n"
     ]
    }
   ],
   "source": [
    "sensor_list = [item for item in feature_list if item.startswith(\"sensor_\")]\n",
    "print(sensor_list)"
   ]
  },
  {
   "cell_type": "markdown",
   "metadata": {},
   "source": [
    "**Sensor Data Scaling**"
   ]
  },
  {
   "cell_type": "code",
   "execution_count": 25,
   "metadata": {},
   "outputs": [],
   "source": [
    "scaler = StandardScaler()\n",
    "data[sensor_list] = scaler.fit_transform(data[sensor_list])"
   ]
  },
  {
   "cell_type": "code",
   "execution_count": 26,
   "metadata": {},
   "outputs": [],
   "source": [
    "X_all_features = data[feature_list]\n",
    "X_sensors_only = data[sensor_list]"
   ]
  },
  {
   "cell_type": "markdown",
   "metadata": {},
   "source": [
    "**Test Train split**"
   ]
  },
  {
   "cell_type": "code",
   "execution_count": 27,
   "metadata": {},
   "outputs": [],
   "source": [
    "X = X_all_features\n",
    "y = data['class']"
   ]
  },
  {
   "cell_type": "code",
   "execution_count": 28,
   "metadata": {},
   "outputs": [],
   "source": [
    "X_train, X_test, y_train, y_test = train_test_split(X, y, test_size=0.2)"
   ]
  },
  {
   "cell_type": "code",
   "execution_count": 29,
   "metadata": {},
   "outputs": [
    {
     "name": "stdout",
     "output_type": "stream",
     "text": [
      "<class 'pandas.core.frame.DataFrame'>\n",
      "(776, 60)\n",
      "(776,)\n",
      "(195, 60)\n",
      "(195,)\n"
     ]
    }
   ],
   "source": [
    "print(type(X_train))\n",
    "print(X_train.shape)\n",
    "print(y_train.shape)\n",
    "print(X_test.shape)\n",
    "print(y_test.shape)"
   ]
  },
  {
   "cell_type": "markdown",
   "metadata": {},
   "source": [
    "**Logistic Regression Classification before dummy encoding**"
   ]
  },
  {
   "cell_type": "code",
   "execution_count": 30,
   "metadata": {},
   "outputs": [
    {
     "data": {
      "text/plain": [
       "LogisticRegression(max_iter=1000)"
      ]
     },
     "execution_count": 30,
     "metadata": {},
     "output_type": "execute_result"
    }
   ],
   "source": [
    "log_reg = LogisticRegression(max_iter=1000)\n",
    "log_reg.fit(X_train, y_train)"
   ]
  },
  {
   "cell_type": "code",
   "execution_count": 31,
   "metadata": {},
   "outputs": [],
   "source": [
    "y_pred_train = log_reg.predict(X_train)\n",
    "y_pred_test = log_reg.predict(X_test)"
   ]
  },
  {
   "cell_type": "code",
   "execution_count": 32,
   "metadata": {},
   "outputs": [
    {
     "name": "stdout",
     "output_type": "stream",
     "text": [
      "              precision    recall  f1-score   support\n",
      "\n",
      "           0       0.57      0.52      0.54        31\n",
      "           1       0.91      0.93      0.92       164\n",
      "\n",
      "    accuracy                           0.86       195\n",
      "   macro avg       0.74      0.72      0.73       195\n",
      "weighted avg       0.86      0.86      0.86       195\n",
      "\n",
      "              precision    recall  f1-score   support\n",
      "\n",
      "           0       0.67      0.46      0.55       139\n",
      "           1       0.89      0.95      0.92       637\n",
      "\n",
      "    accuracy                           0.86       776\n",
      "   macro avg       0.78      0.71      0.73       776\n",
      "weighted avg       0.85      0.86      0.85       776\n",
      "\n"
     ]
    },
    {
     "data": {
      "image/png": "[encoded data removed]",
      "text/plain": [
       "<Figure size 720x216 with 1 Axes>"
      ]
     },
     "metadata": {
      "needs_background": "light"
     },
     "output_type": "display_data"
    }
   ],
   "source": [
    "plt.figure(figsize=(10,3))\n",
    "plt.ylim(-0.05, 1.05)\n",
    "\n",
    "plt.scatter(np.arange(len(y_train)), y_pred_train, c='red', s=10, alpha=0.2);\n",
    "plt.scatter(np.arange(len(y_test)), y_pred_test, c='blue', s=15, alpha=0.2);\n",
    "\n",
    "print(classification_report(y_test, y_pred_test))\n",
    "print(classification_report(y_train, y_pred_train))"
   ]
  },
  {
   "cell_type": "markdown",
   "metadata": {},
   "source": [
    "**Feature Engineering** - **Dummy Encoding lots**"
   ]
  },
  {
   "cell_type": "code",
   "execution_count": 33,
   "metadata": {},
   "outputs": [],
   "source": [
    "data_lot_encoded = pd.get_dummies(data, columns=['lot'])"
   ]
  },
  {
   "cell_type": "code",
   "execution_count": 34,
   "metadata": {},
   "outputs": [
    {
     "name": "stdout",
     "output_type": "stream",
     "text": [
      "(971, 101)\n"
     ]
    }
   ],
   "source": [
    "print(data_lot_encoded.shape)\n",
    "data_lot_encoded.head();"
   ]
  },
  {
   "cell_type": "code",
   "execution_count": 35,
   "metadata": {},
   "outputs": [],
   "source": [
    "data_lot_encoded.columns;\n",
    "\n",
    "targets = ['response', 'class']\n",
    "features = list(set(data_lot_encoded.columns)-set(target_list))"
   ]
  },
  {
   "cell_type": "code",
   "execution_count": 36,
   "metadata": {},
   "outputs": [],
   "source": [
    "X = data_lot_encoded[features]\n",
    "y = data_lot_encoded['class']"
   ]
  },
  {
   "cell_type": "code",
   "execution_count": 37,
   "metadata": {},
   "outputs": [
    {
     "name": "stdout",
     "output_type": "stream",
     "text": [
      "(971, 99) (971,)\n"
     ]
    },
    {
     "data": {
      "text/html": [
       "<div>\n",
       "<style scoped>\n",
       "    .dataframe tbody tr th:only-of-type {\n",
       "        vertical-align: middle;\n",
       "    }\n",
       "\n",
       "    .dataframe tbody tr th {\n",
       "        vertical-align: top;\n",
       "    }\n",
       "\n",
       "    .dataframe thead th {\n",
       "        text-align: right;\n",
       "    }\n",
       "</style>\n",
       "<table border=\"1\" class=\"dataframe\">\n",
       "  <thead>\n",
       "    <tr style=\"text-align: right;\">\n",
       "      <th></th>\n",
       "      <th>lot_6</th>\n",
       "      <th>lot_49</th>\n",
       "      <th>lot_29</th>\n",
       "      <th>sensor_9</th>\n",
       "      <th>sensor_31</th>\n",
       "      <th>...</th>\n",
       "      <th>sensor_53</th>\n",
       "      <th>lot_2</th>\n",
       "      <th>sensor_14</th>\n",
       "      <th>lot_40</th>\n",
       "      <th>sensor_44</th>\n",
       "    </tr>\n",
       "  </thead>\n",
       "  <tbody>\n",
       "    <tr>\n",
       "      <th>178</th>\n",
       "      <td>0</td>\n",
       "      <td>0</td>\n",
       "      <td>0</td>\n",
       "      <td>0.971985</td>\n",
       "      <td>0.447592</td>\n",
       "      <td>...</td>\n",
       "      <td>-1.000726</td>\n",
       "      <td>0</td>\n",
       "      <td>0.633594</td>\n",
       "      <td>0</td>\n",
       "      <td>-0.217720</td>\n",
       "    </tr>\n",
       "    <tr>\n",
       "      <th>614</th>\n",
       "      <td>0</td>\n",
       "      <td>0</td>\n",
       "      <td>0</td>\n",
       "      <td>-1.128033</td>\n",
       "      <td>-0.203372</td>\n",
       "      <td>...</td>\n",
       "      <td>-1.000726</td>\n",
       "      <td>0</td>\n",
       "      <td>-1.865000</td>\n",
       "      <td>0</td>\n",
       "      <td>-0.414194</td>\n",
       "    </tr>\n",
       "    <tr>\n",
       "      <th>507</th>\n",
       "      <td>0</td>\n",
       "      <td>0</td>\n",
       "      <td>0</td>\n",
       "      <td>-1.128033</td>\n",
       "      <td>-0.818307</td>\n",
       "      <td>...</td>\n",
       "      <td>0.868374</td>\n",
       "      <td>0</td>\n",
       "      <td>-0.731174</td>\n",
       "      <td>0</td>\n",
       "      <td>-0.348703</td>\n",
       "    </tr>\n",
       "  </tbody>\n",
       "</table>\n",
       "<p>3 rows × 99 columns</p>\n",
       "</div>"
      ],
      "text/plain": [
       "     lot_6  lot_49  lot_29  sensor_9  sensor_31  ...  sensor_53  lot_2  \\\n",
       "178      0       0       0  0.971985   0.447592  ...  -1.000726      0   \n",
       "614      0       0       0 -1.128033  -0.203372  ...  -1.000726      0   \n",
       "507      0       0       0 -1.128033  -0.818307  ...   0.868374      0   \n",
       "\n",
       "     sensor_14  lot_40  sensor_44  \n",
       "178   0.633594       0  -0.217720  \n",
       "614  -1.865000       0  -0.414194  \n",
       "507  -0.731174       0  -0.348703  \n",
       "\n",
       "[3 rows x 99 columns]"
      ]
     },
     "execution_count": 37,
     "metadata": {},
     "output_type": "execute_result"
    }
   ],
   "source": [
    "print(X.shape, y.shape)\n",
    "X.sample(3)"
   ]
  },
  {
   "cell_type": "code",
   "execution_count": 38,
   "metadata": {},
   "outputs": [],
   "source": [
    "X_train, X_test, y_train, y_test = train_test_split(X,  y, test_size=0.2)"
   ]
  },
  {
   "cell_type": "markdown",
   "metadata": {},
   "source": [
    "**Logistic regression**"
   ]
  },
  {
   "cell_type": "code",
   "execution_count": 39,
   "metadata": {},
   "outputs": [
    {
     "data": {
      "text/plain": [
       "LogisticRegression(max_iter=1000)"
      ]
     },
     "execution_count": 39,
     "metadata": {},
     "output_type": "execute_result"
    }
   ],
   "source": [
    "log_reg = LogisticRegression(max_iter=1000)\n",
    "log_reg.fit(X_train, y_train)"
   ]
  },
  {
   "cell_type": "code",
   "execution_count": 40,
   "metadata": {},
   "outputs": [],
   "source": [
    "y_train_pred = log_reg.predict(X_train)\n",
    "y_test_pred = log_reg.predict(X_test)"
   ]
  },
  {
   "cell_type": "code",
   "execution_count": 41,
   "metadata": {},
   "outputs": [
    {
     "name": "stdout",
     "output_type": "stream",
     "text": [
      "              precision    recall  f1-score   support\n",
      "\n",
      "           0       0.65      0.77      0.70        26\n",
      "           1       0.96      0.93      0.95       169\n",
      "\n",
      "    accuracy                           0.91       195\n",
      "   macro avg       0.80      0.85      0.83       195\n",
      "weighted avg       0.92      0.91      0.92       195\n",
      "\n",
      "              precision    recall  f1-score   support\n",
      "\n",
      "           0       0.79      0.77      0.78       144\n",
      "           1       0.95      0.95      0.95       632\n",
      "\n",
      "    accuracy                           0.92       776\n",
      "   macro avg       0.87      0.86      0.87       776\n",
      "weighted avg       0.92      0.92      0.92       776\n",
      "\n"
     ]
    }
   ],
   "source": [
    "print(classification_report(y_test, y_test_pred))\n",
    "print(classification_report(y_train, y_train_pred))"
   ]
  },
  {
   "cell_type": "markdown",
   "metadata": {},
   "source": [
    "**Decision Tree**"
   ]
  },
  {
   "cell_type": "code",
   "execution_count": 42,
   "metadata": {},
   "outputs": [
    {
     "data": {
      "text/plain": [
       "[1, 2]"
      ]
     },
     "execution_count": 42,
     "metadata": {},
     "output_type": "execute_result"
    }
   ],
   "source": [
    "list(np.arange(1,3))"
   ]
  },
  {
   "cell_type": "code",
   "execution_count": 43,
   "metadata": {},
   "outputs": [],
   "source": [
    "log_hyper = {'penalty':'L2', 'max_iter':1000, 'class_weight':0}\n",
    "decision_hyper = {'criterion':'gini', 'max_depth':2, 'class_weight':0}"
   ]
  },
  {
   "cell_type": "code",
   "execution_count": 44,
   "metadata": {},
   "outputs": [],
   "source": [
    "fail_f1_score = []\n",
    "for depth in np.arange(1,31):\n",
    "    decision_tree = tree.DecisionTreeClassifier(max_depth=depth)\n",
    "    decision_tree.fit(X_train, y_train)\n",
    "    y_train_pred = decision_tree.predict(X_train)\n",
    "    y_test_pred = decision_tree.predict(X_test)\n",
    "    fail_f1_score.append(f1_score(y_test, y_test_pred, pos_label=0))"
   ]
  },
  {
   "cell_type": "code",
   "execution_count": 45,
   "metadata": {},
   "outputs": [
    {
     "name": "stdout",
     "output_type": "stream",
     "text": [
      "2 , 0.7419354838709676\n"
     ]
    },
    {
     "data": {
      "image/png": "[encoded data removed]",
      "text/plain": [
       "<Figure size 432x288 with 1 Axes>"
      ]
     },
     "metadata": {
      "needs_background": "light"
     },
     "output_type": "display_data"
    }
   ],
   "source": [
    "plt.plot(np.arange(len(fail_f1_score)), fail_f1_score)\n",
    "plt.xlabel(' Decision Tree model depth', size=10)\n",
    "plt.ylabel('bad lot f1 score', size=10)\n",
    "print(fail_f1_score.index(max(fail_f1_score)), ',', max(fail_f1_score))\n",
    "best_depth = fail_f1_score.index(max(fail_f1_score))"
   ]
  },
  {
   "cell_type": "code",
   "execution_count": 46,
   "metadata": {},
   "outputs": [
    {
     "data": {
      "text/plain": [
       "DecisionTreeClassifier(max_depth=2)"
      ]
     },
     "execution_count": 46,
     "metadata": {},
     "output_type": "execute_result"
    }
   ],
   "source": [
    "decision_tree = tree.DecisionTreeClassifier(max_depth=best_depth)\n",
    "decision_tree.fit(X_train, y_train)"
   ]
  },
  {
   "cell_type": "code",
   "execution_count": 47,
   "metadata": {},
   "outputs": [],
   "source": [
    "y_train_pred = decision_tree.predict(X_train)\n",
    "y_test_pred = decision_tree.predict(X_test)"
   ]
  },
  {
   "cell_type": "code",
   "execution_count": 48,
   "metadata": {},
   "outputs": [
    {
     "name": "stdout",
     "output_type": "stream",
     "text": [
      "0.6101694915254238\n",
      "              precision    recall  f1-score   support\n",
      "\n",
      "           0       0.55      0.69      0.61        26\n",
      "           1       0.95      0.91      0.93       169\n",
      "\n",
      "    accuracy                           0.88       195\n",
      "   macro avg       0.75      0.80      0.77       195\n",
      "weighted avg       0.90      0.88      0.89       195\n",
      "\n",
      "              precision    recall  f1-score   support\n",
      "\n",
      "           0       0.68      0.69      0.69       144\n",
      "           1       0.93      0.93      0.93       632\n",
      "\n",
      "    accuracy                           0.88       776\n",
      "   macro avg       0.81      0.81      0.81       776\n",
      "weighted avg       0.88      0.88      0.88       776\n",
      "\n"
     ]
    }
   ],
   "source": [
    "print(f1_score(y_test, y_test_pred, pos_label=0))\n",
    "print(classification_report(y_test, y_test_pred))\n",
    "print(classification_report(y_train, y_train_pred))"
   ]
  },
  {
   "cell_type": "code",
   "execution_count": 49,
   "metadata": {},
   "outputs": [
    {
     "data": {
      "text/plain": [
       "array([0, 1])"
      ]
     },
     "execution_count": 49,
     "metadata": {},
     "output_type": "execute_result"
    }
   ],
   "source": [
    "decision_tree.classes_"
   ]
  },
  {
   "cell_type": "code",
   "execution_count": 50,
   "metadata": {},
   "outputs": [
    {
     "data": {
      "image/png": "[encoded data removed]",
      "text/plain": [
       "<Figure size 1440x720 with 1 Axes>"
      ]
     },
     "metadata": {
      "needs_background": "light"
     },
     "output_type": "display_data"
    }
   ],
   "source": [
    "plt.figure(figsize=(20,10))\n",
    "decision_tree_plot = tree.plot_tree(decision_tree)\n",
    "plt.title('Gini criteria Decision Tree', size=30)\n",
    "plt.show()"
   ]
  },
  {
   "cell_type": "markdown",
   "metadata": {},
   "source": [
    "**Random Forest**"
   ]
  },
  {
   "cell_type": "code",
   "execution_count": 51,
   "metadata": {},
   "outputs": [],
   "source": [
    "fail_f1_score = []\n",
    "for estimator in np.arange(1,31):\n",
    "    rand_for = RandomForestClassifier(n_estimators=estimator)\n",
    "    rand_for.fit(X_train, y_train)\n",
    "    y_train_pred = rand_for.predict(X_train)\n",
    "    y_test_pred = rand_for.predict(X_test)\n",
    "    fail_f1_score.append(f1_score(y_test, y_test_pred, pos_label=0))"
   ]
  },
  {
   "cell_type": "code",
   "execution_count": 52,
   "metadata": {},
   "outputs": [
    {
     "name": "stdout",
     "output_type": "stream",
     "text": [
      "19 , 0.7241379310344829\n"
     ]
    },
    {
     "data": {
      "image/png": "[encoded data removed]",
      "text/plain": [
       "<Figure size 432x288 with 1 Axes>"
      ]
     },
     "metadata": {
      "needs_background": "light"
     },
     "output_type": "display_data"
    }
   ],
   "source": [
    "plt.plot(np.arange(len(fail_f1_score)), fail_f1_score)\n",
    "plt.xlabel('number of random forest model estimators', size=10)\n",
    "plt.ylabel('bad lot f1 score', size=10)\n",
    "print(fail_f1_score.index(max(fail_f1_score)), ',', max(fail_f1_score))\n",
    "best_estimators = fail_f1_score.index(max(fail_f1_score))"
   ]
  },
  {
   "cell_type": "code",
   "execution_count": 53,
   "metadata": {},
   "outputs": [
    {
     "data": {
      "text/plain": [
       "RandomForestClassifier(n_estimators=19)"
      ]
     },
     "execution_count": 53,
     "metadata": {},
     "output_type": "execute_result"
    }
   ],
   "source": [
    "rand_for = RandomForestClassifier(n_estimators=best_estimators)\n",
    "rand_for.fit(X_train, y_train)"
   ]
  },
  {
   "cell_type": "code",
   "execution_count": 54,
   "metadata": {},
   "outputs": [],
   "source": [
    "y_train_pred = rand_for.predict(X_train)\n",
    "y_test_pred = rand_for.predict(X_test)"
   ]
  },
  {
   "cell_type": "code",
   "execution_count": 55,
   "metadata": {},
   "outputs": [
    {
     "name": "stdout",
     "output_type": "stream",
     "text": [
      "              precision    recall  f1-score   support\n",
      "\n",
      "           0       0.56      0.54      0.55        26\n",
      "           1       0.93      0.93      0.93       169\n",
      "\n",
      "    accuracy                           0.88       195\n",
      "   macro avg       0.74      0.74      0.74       195\n",
      "weighted avg       0.88      0.88      0.88       195\n",
      "\n",
      "              precision    recall  f1-score   support\n",
      "\n",
      "           0       1.00      0.99      1.00       144\n",
      "           1       1.00      1.00      1.00       632\n",
      "\n",
      "    accuracy                           1.00       776\n",
      "   macro avg       1.00      1.00      1.00       776\n",
      "weighted avg       1.00      1.00      1.00       776\n",
      "\n"
     ]
    }
   ],
   "source": [
    "print(classification_report(y_test, y_test_pred, labels=[0,1]))\n",
    "print(classification_report(y_train, y_train_pred, labels=[0,1]))"
   ]
  },
  {
   "cell_type": "code",
   "execution_count": 56,
   "metadata": {},
   "outputs": [
    {
     "data": {
      "text/plain": [
       "0.6538461538461539"
      ]
     },
     "execution_count": 56,
     "metadata": {},
     "output_type": "execute_result"
    }
   ],
   "source": [
    "rand_for = RandomForestClassifier(n_estimators=200)\n",
    "rand_for.fit(X_train, y_train)\n",
    "y_train_pred = rand_for.predict(X_train)\n",
    "y_test_pred = rand_for.predict(X_test)\n",
    "f1_score(y_test, y_test_pred, pos_label=0)"
   ]
  }
 ],
 "metadata": {
  "kernelspec": {
   "display_name": "Python 3",
   "language": "python",
   "name": "python3"
  },
  "language_info": {
   "codemirror_mode": {
    "name": "ipython",
    "version": 3
   },
   "file_extension": ".py",
   "mimetype": "text/x-python",
   "name": "python",
   "nbconvert_exporter": "python",
   "pygments_lexer": "ipython3",
   "version": "3.8.5"
  }
 },
 "nbformat": 4,
 "nbformat_minor": 4
}
